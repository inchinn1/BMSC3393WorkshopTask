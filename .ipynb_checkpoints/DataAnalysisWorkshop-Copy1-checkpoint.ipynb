{
 "cells": [
  {
   "cell_type": "markdown",
   "metadata": {},
   "source": [
    "# What you are trying to achieve \n",
    "### - Given a set of ligands and a receptor neuron / cell determine which ligand has the highest affinity and its hill coefficent\n",
    "### - responses has been measured with intracellular recording of action potentials\n",
    "\n",
    "\n",
    "\n",
    "## import spike data\n",
    "\n",
    "- examine data file properties\n",
    "- "
   ]
  },
  {
   "cell_type": "code",
   "execution_count": 1,
   "metadata": {},
   "outputs": [],
   "source": [
    "import numpy as np      # this imports all of numpy which you will now refer to as np\n",
    "from matplotlib import pyplot as plt # this imports the pyplot package from the matplotlib\n",
    "# library which you will now refer to as plt\n",
    "\n",
    "plt.rcParams.update({'font.size': 16})  # sets the font size of all plots to 14\n",
    "\n",
    "import scipy.signal as signal\n",
    "import scipy.optimize as fit\n",
    "import glob\n",
    "import warnings\n",
    "warnings.filterwarnings('ignore')\n",
    "\n",
    "import re"
   ]
  },
  {
   "cell_type": "markdown",
   "metadata": {},
   "source": [
    "# Get Files to process"
   ]
  },
  {
   "cell_type": "code",
   "execution_count": 2,
   "metadata": {},
   "outputs": [],
   "source": [
    "files=sorted(glob.glob(\"*.txt\"))\n"
   ]
  },
  {
   "cell_type": "code",
   "execution_count": 3,
   "metadata": {
    "scrolled": true
   },
   "outputs": [
    {
     "data": {
      "text/plain": [
       "['LigandA_000001.txt',\n",
       " 'LigandA_000003.txt',\n",
       " 'LigandA_00001.txt',\n",
       " 'LigandA_00003.txt',\n",
       " 'LigandA_0001.txt',\n",
       " 'LigandA_0003.txt',\n",
       " 'LigandA_001.txt',\n",
       " 'LigandA_003.txt']"
      ]
     },
     "execution_count": 3,
     "metadata": {},
     "output_type": "execute_result"
    }
   ],
   "source": [
    "files"
   ]
  },
  {
   "cell_type": "code",
   "execution_count": 4,
   "metadata": {},
   "outputs": [],
   "source": [
    "Concentration=np.asarray([0.000001,0.000003,0.00001,0.00003,0.0001,0.0003,0.001,0.003])"
   ]
  },
  {
   "cell_type": "code",
   "execution_count": 5,
   "metadata": {},
   "outputs": [],
   "source": [
    "response=[]\n",
    "SD=[]\n",
    "for file in files:\n",
    "    data=np.loadtxt(file);\n",
    "    spik=[]\n",
    "    for i in range(data.shape[1]):\n",
    "        peaks, props = signal.find_peaks(data[:,i],height=0)\n",
    "        spik.append(len(peaks))\n",
    "    \n",
    "    spikeRs=np.asarray(spik)\n",
    "    response.append(np.mean(spikeRs))\n",
    "    SD.append(np.std(spikeRs))\n",
    "    "
   ]
  },
  {
   "cell_type": "markdown",
   "metadata": {},
   "source": [
    "## how to fit an equation to data"
   ]
  },
  {
   "cell_type": "code",
   "execution_count": 6,
   "metadata": {},
   "outputs": [],
   "source": [
    "def hillFunction(conc,Max,EC50,hillCoef):\n",
    "    return Max/(1+(EC50/conc)**hillCoef)\n",
    "\n",
    "params, paramsCoV = fit.curve_fit(hillFunction,Concentration,response)#,sigma=SDs,p0=[30,0,1])"
   ]
  },
  {
   "cell_type": "code",
   "execution_count": 1,
   "metadata": {
    "scrolled": false
   },
   "outputs": [
    {
     "ename": "NameError",
     "evalue": "name 'plt' is not defined",
     "output_type": "error",
     "traceback": [
      "\u001b[0;31m---------------------------------------------------------------------------\u001b[0m",
      "\u001b[0;31mNameError\u001b[0m                                 Traceback (most recent call last)",
      "\u001b[0;32m<ipython-input-1-7efddbe6d06d>\u001b[0m in \u001b[0;36m<module>\u001b[0;34m\u001b[0m\n\u001b[0;32m----> 1\u001b[0;31m \u001b[0mfig\u001b[0m\u001b[0;34m,\u001b[0m \u001b[0max\u001b[0m \u001b[0;34m=\u001b[0m \u001b[0mplt\u001b[0m\u001b[0;34m.\u001b[0m\u001b[0msubplots\u001b[0m\u001b[0;34m(\u001b[0m\u001b[0mfigsize\u001b[0m\u001b[0;34m=\u001b[0m\u001b[0;34m(\u001b[0m\u001b[0;36m8\u001b[0m\u001b[0;34m,\u001b[0m\u001b[0;36m8\u001b[0m\u001b[0;34m)\u001b[0m\u001b[0;34m)\u001b[0m \u001b[0;31m#specify the canvas on which the figure will be plotted\u001b[0m\u001b[0;34m\u001b[0m\u001b[0;34m\u001b[0m\u001b[0m\n\u001b[0m\u001b[1;32m      2\u001b[0m \u001b[0;34m\u001b[0m\u001b[0m\n\u001b[1;32m      3\u001b[0m \u001b[0;34m\u001b[0m\u001b[0m\n\u001b[1;32m      4\u001b[0m \u001b[0max\u001b[0m\u001b[0;34m.\u001b[0m\u001b[0mset_xscale\u001b[0m\u001b[0;34m(\u001b[0m\u001b[0;34m\"log\"\u001b[0m\u001b[0;34m)\u001b[0m\u001b[0;34m\u001b[0m\u001b[0;34m\u001b[0m\u001b[0m\n\u001b[1;32m      5\u001b[0m \u001b[0max\u001b[0m\u001b[0;34m.\u001b[0m\u001b[0merrorbar\u001b[0m\u001b[0;34m(\u001b[0m\u001b[0mConcentration\u001b[0m\u001b[0;34m,\u001b[0m\u001b[0mresponse\u001b[0m\u001b[0;34m,\u001b[0m\u001b[0myerr\u001b[0m\u001b[0;34m=\u001b[0m\u001b[0mSD\u001b[0m\u001b[0;34m,\u001b[0m\u001b[0mfmt\u001b[0m\u001b[0;34m=\u001b[0m\u001b[0;34m'o'\u001b[0m\u001b[0;34m)\u001b[0m\u001b[0;34m\u001b[0m\u001b[0;34m\u001b[0m\u001b[0m\n",
      "\u001b[0;31mNameError\u001b[0m: name 'plt' is not defined"
     ]
    }
   ],
   "source": [
    "fig, ax = plt.subplots(figsize=(8,8)) #specify the canvas on which the figure will be plotted\n",
    "\n",
    "\n",
    "ax.set_xscale(\"log\")\n",
    "ax.errorbar(Concentration,response,yerr=SD,fmt='o')\n",
    "ax.set_xlabel(\"Concentration (M)\")\n",
    "ax.set_ylabel(\"Response (Spikes per s)\")\n",
    "\n",
    "\n",
    "hillConc =np.arange(0.000001,0.003,0.0000001)\n",
    "\n",
    "ax.plot(hillConc, hillFunction(hillConc,params[0],params[1],params[2]));\n",
    "\n",
    "print(\"EC50 is\",params[1],\" with Hill Coefficent of \",params[2])\n"
   ]
  },
  {
   "cell_type": "code",
   "execution_count": 8,
   "metadata": {},
   "outputs": [],
   "source": [
    "conc=np.arange(.0000001,0.003,0.0000001)"
   ]
  },
  {
   "cell_type": "code",
   "execution_count": null,
   "metadata": {},
   "outputs": [],
   "source": []
  }
 ],
 "metadata": {
  "kernelspec": {
   "display_name": "Python 3",
   "language": "python",
   "name": "python3"
  },
  "language_info": {
   "codemirror_mode": {
    "name": "ipython",
    "version": 3
   },
   "file_extension": ".py",
   "mimetype": "text/x-python",
   "name": "python",
   "nbconvert_exporter": "python",
   "pygments_lexer": "ipython3",
   "version": "3.7.9"
  },
  "varInspector": {
   "cols": {
    "lenName": 16,
    "lenType": 16,
    "lenVar": 40
   },
   "kernels_config": {
    "python": {
     "delete_cmd_postfix": "",
     "delete_cmd_prefix": "del ",
     "library": "var_list.py",
     "varRefreshCmd": "print(var_dic_list())"
    },
    "r": {
     "delete_cmd_postfix": ") ",
     "delete_cmd_prefix": "rm(",
     "library": "var_list.r",
     "varRefreshCmd": "cat(var_dic_list()) "
    }
   },
   "types_to_exclude": [
    "module",
    "function",
    "builtin_function_or_method",
    "instance",
    "_Feature"
   ],
   "window_display": false
  }
 },
 "nbformat": 4,
 "nbformat_minor": 4
}
