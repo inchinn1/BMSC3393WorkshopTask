{
 "cells": [
  {
   "cell_type": "code",
   "execution_count": null,
   "metadata": {},
   "outputs": [],
   "source": []
  },
  {
   "cell_type": "markdown",
   "metadata": {},
   "source": [
    "# The Task\n",
    "### Determine the EC50 and hill coefficient for a drug (Ligand A) acting on a spiking cell\n",
    "\n",
    "<img src=\"Example.png\">\n",
    "\n",
    "- The drug has been applied 5 times at each concentration and the data has been saved in .csv files, one for each concentration\n",
    "- The drug was applied for 1 second in each trial\n",
    "- The data was sampled at 50 kHz\n",
    "- Unexpected noise occurred during the recordings\n",
    "- We shall quantify the average number of spikes at each conencentration\n",
    "- Then fit a Hill curve to this data\n"
   ]
  },
  {
   "cell_type": "code",
   "execution_count": 1,
   "metadata": {},
   "outputs": [],
   "source": [
    "#Load the necessary libraries \n",
    "\n",
    "import numpy as np\n",
    "import matplotlib.pyplot as plt\n",
    "\n",
    "import scipy.signal as signal\n",
    "import scipy.optimize as fit\n",
    "import glob     # useful for searching directories to get a list of file types\n",
    "\n",
    "# import warnings\n",
    "# warnings.filterwarnings('ignore')\n",
    "\n",
    "\n",
    "%matplotlib widget"
   ]
  },
  {
   "cell_type": "markdown",
   "metadata": {},
   "source": [
    "### Get a list of the file names that we will process\n",
    "\n",
    "- create a **list** called \"files\" that contains the name of each file in the \"data sets\" folder\n",
    "- print some text to inform us how many concentrations were tested\n",
    "- print the contents of the list to make sure it is ordered correctly"
   ]
  },
  {
   "cell_type": "code",
   "execution_count": null,
   "metadata": {
    "scrolled": false
   },
   "outputs": [],
   "source": [
    "files=glob.glob(\"data sets/*.csv\")\n",
    "print(\"there were\", len(files), \"concetrations tested\")\n",
    "files"
   ]
  },
  {
   "cell_type": "markdown",
   "metadata": {},
   "source": [
    "The file names in **\"files\"** are not in acscending order of concentration. We want them to be ordered in ascending concentration as this will make later analysis much easier. \n",
    "\n",
    "So we will modify the code so that the file names are **sorted**"
   ]
  },
  {
   "cell_type": "code",
   "execution_count": 3,
   "metadata": {
    "scrolled": true
   },
   "outputs": [
    {
     "name": "stdout",
     "output_type": "stream",
     "text": [
      "there were 8 concetrations tested\n"
     ]
    },
    {
     "data": {
      "text/plain": [
       "['data sets/LigandA_0001.csv',\n",
       " 'data sets/LigandA_0003.csv',\n",
       " 'data sets/LigandA_001.csv',\n",
       " 'data sets/LigandA_003.csv',\n",
       " 'data sets/LigandA_01.csv',\n",
       " 'data sets/LigandA_03.csv',\n",
       " 'data sets/LigandA_1.csv',\n",
       " 'data sets/LigandA_3.csv']"
      ]
     },
     "execution_count": 3,
     "metadata": {},
     "output_type": "execute_result"
    }
   ],
   "source": [
    "files=sorted(glob.glob(\"data sets/*.csv\"))\n",
    "print(\"there were\", len(files), \"concetrations tested\")\n",
    "files"
   ]
  },
  {
   "cell_type": "markdown",
   "metadata": {},
   "source": [
    "### You now have an ordered list of file names that we are going to process\n",
    "\n",
    "# Next load one of the files and inspect it\n",
    "\n",
    "- use **np.loadtxt( )** and load the last file in the list, i.e. the strongest concentration\n",
    "- print the **shape** of the data, i.e. how many rows and columns"
   ]
  },
  {
   "cell_type": "code",
   "execution_count": 4,
   "metadata": {},
   "outputs": [
    {
     "name": "stdout",
     "output_type": "stream",
     "text": [
      "(168001, 5)\n"
     ]
    }
   ],
   "source": [
    "test = np.loadtxt(files[-1])\n",
    "print(test.shape)"
   ]
  },
  {
   "cell_type": "markdown",
   "metadata": {},
   "source": [
    "- now make an xScale array to plot the data with the correct x scaling, use np.arange()"
   ]
  },
  {
   "cell_type": "code",
   "execution_count": 5,
   "metadata": {},
   "outputs": [],
   "source": [
    "sampleRate = 50000\n",
    "xScale=np.arange(0,(test.shape[0]/sampleRate),1/sampleRate)"
   ]
  },
  {
   "cell_type": "markdown",
   "metadata": {},
   "source": [
    "- and plot the first column in a new figure and inspect it\n",
    "- zoom in on a single action potential using the zoom tool"
   ]
  },
  {
   "cell_type": "code",
   "execution_count": 6,
   "metadata": {
    "scrolled": false
   },
   "outputs": [
    {
     "data": {
      "application/vnd.jupyter.widget-view+json": {
       "model_id": "de0aa8f67fd14fd995ecd75db3037ddc",
       "version_major": 2,
       "version_minor": 0
      },
      "text/plain": [
       "Canvas(toolbar=Toolbar(toolitems=[('Home', 'Reset original view', 'home', 'home'), ('Back', 'Back to previous …"
      ]
     },
     "metadata": {},
     "output_type": "display_data"
    }
   ],
   "source": [
    "plt.figure()\n",
    "plt.plot(xScale,test[:,0]);\n",
    "plt.plot(xScale,signal.medfilt(test[:,0],21));\n",
    "#plt.xlim(0.995,0.997)"
   ]
  },
  {
   "cell_type": "markdown",
   "metadata": {},
   "source": [
    "#### you should find that the spikes are pretty noisey... some of the noise fluctuates around 0 which may prevent find_peaks from working well\n",
    "we will fix this by filtering the data with a simple median filter (https://en.wikipedia.org/wiki/Median_filter)\n",
    "\n",
    "- add another line to the code above to plot a filtered version ontop of the last graph\n",
    "- Hint: scipy.signal has medfilt (https://docs.scipy.org/doc/scipy/reference/generated/scipy.signal.medfilt.html)\n",
    "- zoom in again on the filtered signal\n",
    "- change the window size (aka kernel) so that the spikes rise and fall without lots of noise\n",
    "---------------------"
   ]
  },
  {
   "cell_type": "markdown",
   "metadata": {},
   "source": [
    "Once you have determined an appropriate filter window your graph should look something like this:\n",
    "<img src=\"FilteredExample.png\">"
   ]
  },
  {
   "cell_type": "markdown",
   "metadata": {},
   "source": [
    "### Now we will detect how many spikes were in this trial. You can reuse the appropriate code from your pre-work book to do this.. use the filtered data to do this\n",
    "\n",
    "- print the number of spikes in this trial"
   ]
  },
  {
   "cell_type": "code",
   "execution_count": 12,
   "metadata": {},
   "outputs": [
    {
     "name": "stdout",
     "output_type": "stream",
     "text": [
      "30\n"
     ]
    }
   ],
   "source": [
    "peaks, props = signal.find_peaks(signal.medfilt(test[:,1],21), height=0)\n",
    "\n",
    "print(len(peaks))"
   ]
  },
  {
   "cell_type": "markdown",
   "metadata": {},
   "source": [
    "- now loop through each trial doing the same thing"
   ]
  },
  {
   "cell_type": "code",
   "execution_count": 14,
   "metadata": {},
   "outputs": [
    {
     "name": "stdout",
     "output_type": "stream",
     "text": [
      "30\n",
      "30\n",
      "32\n",
      "35\n",
      "32\n"
     ]
    }
   ],
   "source": [
    "for i in range(test.shape[1]):\n",
    "    peaks, props = signal.find_peaks(signal.medfilt(test[:,i],21), height=0)\n",
    "    print(len(peaks))"
   ]
  },
  {
   "cell_type": "markdown",
   "metadata": {},
   "source": [
    "### Instead of printing the values we want to put them in an array so it is easy to calculate the mean\n",
    "\n",
    "- so first create an array to hold these values, call it \"spikes\", you can use np.zeros() to generate an empty array\n",
    "- then run the loop again but instead of printing, put the number of spikes into the index of spikes, i.e. spikes[index]\n",
    "\n",
    "- after the loop print the mean number of spikes for this trial and the standard deviation. use np.mean() and np.std()"
   ]
  },
  {
   "cell_type": "code",
   "execution_count": 21,
   "metadata": {},
   "outputs": [
    {
     "name": "stdout",
     "output_type": "stream",
     "text": [
      "mean number of spikes was 31.8 with SD of 1.8330302779823358\n"
     ]
    }
   ],
   "source": [
    "spikes = np.zeros(test.shape[1])\n",
    "\n",
    "for i in range(test.shape[1]):\n",
    "    peaks, props = signal.find_peaks(signal.medfilt(test[:,i],21), height=0)\n",
    "    spikes[i]=len(peaks)\n",
    "    \n",
    "print(\"mean number of spikes was\",np.mean(spikes),\"with SD of\",np.std(spikes))"
   ]
  },
  {
   "cell_type": "markdown",
   "metadata": {},
   "source": [
    "### We are now ready to do this for all the files\n",
    "\n",
    "- first create 2 lists, one to store the mean from each file and one for the SD\n",
    "- then create a for loop to loop file in files:\n",
    "- inside this use np.loadtxt to load each file\n",
    "- then paste the code you developed in the above cell inside this loop\n",
    "- instead of print the mean and SD append them to their list\n",
    "- take care with your indentation!\n"
   ]
  },
  {
   "cell_type": "code",
   "execution_count": 7,
   "metadata": {},
   "outputs": [],
   "source": [
    "meanSpikes=[]\n",
    "SD = []\n",
    "\n",
    "for file in files:\n",
    "    data=np.loadtxt(file);\n",
    "\n",
    "    spikes=np.zeros(data.shape[1])\n",
    "    for i in range(data.shape[1]):\n",
    "        peaks, props = signal.find_peaks(signal.medfilt(data[:,i],21),height=0)\n",
    "        spikes[i]=len(peaks)\n",
    "        \n",
    "    meanSpikes.append(np.mean(spikes))\n",
    "    SD.append(np.std(spikes))"
   ]
  },
  {
   "cell_type": "markdown",
   "metadata": {},
   "source": [
    "#### Great! you have just looped through all the data,filtered it, detected spikes and calculated the mean and SD for each trial!\n",
    "\n",
    "You just need to plot these, first you need an array corresponding to concentrations\n",
    "- use np.asarray([ ]) to make one, call it \"concentration\""
   ]
  },
  {
   "cell_type": "code",
   "execution_count": 8,
   "metadata": {},
   "outputs": [],
   "source": [
    "concentration=np.asarray([0.0001,0.0003,0.001,0.003,0.01,0.03,0.1,0.3])"
   ]
  },
  {
   "cell_type": "markdown",
   "metadata": {},
   "source": [
    "- make a new figure\n",
    "- use the following to plot your results:\n",
    "\n",
    "plt.errorbar(concentration,meanSpikes,yerr=SD,fmt='o');\n",
    "\n",
    "see details here (https://matplotlib.org/api/_as_gen/matplotlib.pyplot.errorbar.html)\n",
    "- change x axis to log scale: plt.xscale('log')\n",
    "- label the x and y axes"
   ]
  },
  {
   "cell_type": "code",
   "execution_count": 9,
   "metadata": {},
   "outputs": [
    {
     "data": {
      "application/vnd.jupyter.widget-view+json": {
       "model_id": "f19a70f16a95468c82cc4827be36d4bb",
       "version_major": 2,
       "version_minor": 0
      },
      "text/plain": [
       "Canvas(toolbar=Toolbar(toolitems=[('Home', 'Reset original view', 'home', 'home'), ('Back', 'Back to previous …"
      ]
     },
     "metadata": {},
     "output_type": "display_data"
    }
   ],
   "source": [
    "plt.figure()\n",
    "plt.errorbar(concentration,meanSpikes,yerr=SD,fmt='o');\n",
    "plt.xscale('log')\n",
    "plt.xlabel('Concentration (mM)')\n",
    "plt.ylabel('Response (spikes per s)');"
   ]
  },
  {
   "cell_type": "markdown",
   "metadata": {},
   "source": [
    "## Now we will fit the the Hill equation to this data\n",
    "<img src=\"HillEquation.png\">\n",
    "\n",
    "### To fit an equation to data we first need to \"define\" the equation as a python function \n"
   ]
  },
  {
   "cell_type": "code",
   "execution_count": 10,
   "metadata": {},
   "outputs": [],
   "source": [
    "# a function receives inputs, in this case the parameters of the equation, i.e. EC50, n, etc\n",
    "# the first input needs to be the dependent variable, in this case the concentration\n",
    "\n",
    "def hillFunction(conc,Max,EC50,n):\n",
    "    return Max/(1+(EC50/conc)**n)"
   ]
  },
  {
   "cell_type": "code",
   "execution_count": 12,
   "metadata": {
    "scrolled": true
   },
   "outputs": [
    {
     "name": "stdout",
     "output_type": "stream",
     "text": [
      "EC50 is 5.763 µm\n",
      "Hill coefficent is  1.355\n"
     ]
    },
    {
     "name": "stderr",
     "output_type": "stream",
     "text": [
      "/Users/jamiejohnston/opt/anaconda3/envs/ADA/lib/python3.7/site-packages/ipykernel_launcher.py:5: RuntimeWarning: invalid value encountered in power\n",
      "  \"\"\"\n"
     ]
    }
   ],
   "source": [
    "## we want to discover what values of these parameter give the best fit of our data\n",
    "# we can use fit.curve_fit to obtain this, we input the function we want to fit and the x and y data\n",
    "# curve fit outputs 2 objects, the parameters which we want and the covariance which you can ignore\n",
    "params, paramsCoV = fit.curve_fit(hillFunction,concentration,meanSpikes)\n",
    "\n",
    "print(\"EC50 is\",round(params[1]*1000,3),\"µm\")\n",
    "print(\"Hill coefficent is \",round(params[2],3))"
   ]
  },
  {
   "cell_type": "code",
   "execution_count": 16,
   "metadata": {},
   "outputs": [
    {
     "data": {
      "application/vnd.jupyter.widget-view+json": {
       "model_id": "122b448abbf44473896ef8026bb78b13",
       "version_major": 2,
       "version_minor": 0
      },
      "text/plain": [
       "Canvas(toolbar=Toolbar(toolitems=[('Home', 'Reset original view', 'home', 'home'), ('Back', 'Back to previous …"
      ]
     },
     "metadata": {},
     "output_type": "display_data"
    },
    {
     "name": "stdout",
     "output_type": "stream",
     "text": [
      "EC50 is 5.762734013138822 µM with Hill Coefficent of 1.354502438860281\n"
     ]
    }
   ],
   "source": [
    "plt.figure()\n",
    "plt.errorbar(concentration,meanSpikes,yerr=SD,fmt='o');\n",
    "plt.xscale('log')\n",
    "plt.xlabel('Concentration (mM)')\n",
    "plt.ylabel('Response (spikes per s)')\n",
    "\n",
    "newConc = np.arange(0.0001,0.3,0.0001)\n",
    "\n",
    "plt.plot(newConc, hillFunction(newConc,params[0],params[1],params[2]));\n",
    "print(\"EC50 is\",params[1]*1000,\"µM with Hill Coefficent of\",params[2])"
   ]
  },
  {
   "cell_type": "code",
   "execution_count": 8,
   "metadata": {},
   "outputs": [],
   "source": [
    "response=[]\n",
    "SD = []\n",
    "examples=[]\n",
    "\n",
    "for file in files:\n",
    "    data=np.loadtxt(file);\n",
    "\n",
    "    spikes=np.zeros(data.shape[1])\n",
    "    for i in range(data.shape[1]):\n",
    "        peaks, props = signal.find_peaks(signal.medfilt(data[:,i],31),height=0)\n",
    "        spikes[i]=len(peaks)\n",
    "        if i == 3:\n",
    "            examples.append(signal.medfilt(data[:,i],31))\n",
    "    response.append(np.mean(spikes))\n",
    "    SD.append(np.std(spikes))"
   ]
  },
  {
   "cell_type": "markdown",
   "metadata": {},
   "source": [
    "#### Input some experiment details"
   ]
  },
  {
   "cell_type": "code",
   "execution_count": 14,
   "metadata": {},
   "outputs": [],
   "source": [
    "concentration=np.asarray([0.0001,0.0003,0.001,0.003,0.01,0.03,0.1,0.3])\n",
    "\n"
   ]
  },
  {
   "cell_type": "code",
   "execution_count": null,
   "metadata": {},
   "outputs": [],
   "source": []
  },
  {
   "cell_type": "code",
   "execution_count": 24,
   "metadata": {},
   "outputs": [
    {
     "ename": "NameError",
     "evalue": "name 'response' is not defined",
     "output_type": "error",
     "traceback": [
      "\u001b[0;31m---------------------------------------------------------------------------\u001b[0m",
      "\u001b[0;31mNameError\u001b[0m                                 Traceback (most recent call last)",
      "\u001b[0;32m<ipython-input-24-bd5c3345010a>\u001b[0m in \u001b[0;36m<module>\u001b[0;34m\u001b[0m\n\u001b[0;32m----> 1\u001b[0;31m \u001b[0mplt\u001b[0m\u001b[0;34m.\u001b[0m\u001b[0merrorbar\u001b[0m\u001b[0;34m(\u001b[0m\u001b[0mconcentration\u001b[0m\u001b[0;34m,\u001b[0m\u001b[0mresponse\u001b[0m\u001b[0;34m,\u001b[0m\u001b[0myerr\u001b[0m\u001b[0;34m=\u001b[0m\u001b[0mSD\u001b[0m\u001b[0;34m,\u001b[0m\u001b[0mfmt\u001b[0m\u001b[0;34m=\u001b[0m\u001b[0;34m'o'\u001b[0m\u001b[0;34m)\u001b[0m\u001b[0;34m;\u001b[0m\u001b[0;34m\u001b[0m\u001b[0;34m\u001b[0m\u001b[0m\n\u001b[0m",
      "\u001b[0;31mNameError\u001b[0m: name 'response' is not defined"
     ]
    }
   ],
   "source": []
  },
  {
   "cell_type": "code",
   "execution_count": 10,
   "metadata": {},
   "outputs": [
    {
     "ename": "NameError",
     "evalue": "name 'test1_filt' is not defined",
     "output_type": "error",
     "traceback": [
      "\u001b[0;31m---------------------------------------------------------------------------\u001b[0m",
      "\u001b[0;31mNameError\u001b[0m                                 Traceback (most recent call last)",
      "\u001b[0;32m<ipython-input-10-fef579e34912>\u001b[0m in \u001b[0;36m<module>\u001b[0;34m\u001b[0m\n\u001b[0;32m----> 1\u001b[0;31m \u001b[0mpeaks\u001b[0m\u001b[0;34m,\u001b[0m \u001b[0mprops\u001b[0m \u001b[0;34m=\u001b[0m \u001b[0msignal\u001b[0m\u001b[0;34m.\u001b[0m\u001b[0mfind_peaks\u001b[0m\u001b[0;34m(\u001b[0m\u001b[0mtest1_filt\u001b[0m\u001b[0;34m,\u001b[0m\u001b[0mheight\u001b[0m\u001b[0;34m=\u001b[0m\u001b[0;36m0\u001b[0m\u001b[0;34m)\u001b[0m \u001b[0;31m#this function returns two things: 1) peaks\u001b[0m\u001b[0;34m\u001b[0m\u001b[0;34m\u001b[0m\u001b[0m\n\u001b[0m\u001b[1;32m      2\u001b[0m \u001b[0;31m# which is the location of the spike in sample points and props which contains other details about the peaks\u001b[0m\u001b[0;34m\u001b[0m\u001b[0;34m\u001b[0m\u001b[0;34m\u001b[0m\u001b[0m\n\u001b[1;32m      3\u001b[0m \u001b[0mpeaks\u001b[0m\u001b[0;34m=\u001b[0m\u001b[0mpeaks\u001b[0m\u001b[0;34m/\u001b[0m\u001b[0msampleRate\u001b[0m  \u001b[0;31m# convert the sample points to time\u001b[0m\u001b[0;34m\u001b[0m\u001b[0;34m\u001b[0m\u001b[0m\n\u001b[1;32m      4\u001b[0m \u001b[0mpeakY\u001b[0m\u001b[0;34m=\u001b[0m\u001b[0mnp\u001b[0m\u001b[0;34m.\u001b[0m\u001b[0mzeros\u001b[0m\u001b[0;34m(\u001b[0m\u001b[0mlen\u001b[0m\u001b[0;34m(\u001b[0m\u001b[0mpeaks\u001b[0m\u001b[0;34m)\u001b[0m\u001b[0;34m)\u001b[0m     \u001b[0;31m#np.zeros(x) creates an array of length x filled with zeros, np.ones fills it with 1s\u001b[0m\u001b[0;34m\u001b[0m\u001b[0;34m\u001b[0m\u001b[0m\n\u001b[1;32m      5\u001b[0m \u001b[0mprint\u001b[0m\u001b[0;34m(\u001b[0m\u001b[0;34m'we detected '\u001b[0m\u001b[0;34m,\u001b[0m\u001b[0mlen\u001b[0m\u001b[0;34m(\u001b[0m\u001b[0mpeaks\u001b[0m\u001b[0;34m)\u001b[0m\u001b[0;34m,\u001b[0m\u001b[0;34m' spikes'\u001b[0m\u001b[0;34m)\u001b[0m\u001b[0;34m\u001b[0m\u001b[0;34m\u001b[0m\u001b[0m\n",
      "\u001b[0;31mNameError\u001b[0m: name 'test1_filt' is not defined"
     ]
    }
   ],
   "source": [
    "\n",
    "peaks, props = signal.find_peaks(test1_filt,height=0) #this function returns two things: 1) peaks\n",
    "# which is the location of the spike in sample points and props which contains other details about the peaks\n",
    "peaks=peaks/sampleRate  # convert the sample points to time\n",
    "peakY=np.zeros(len(peaks))     #np.zeros(x) creates an array of length x filled with zeros, np.ones fills it with 1s\n",
    "print('we detected ',len(peaks),' spikes')\n",
    "\n",
    "# magic command which switches how plt displays graphs, \"%matplotlib \" for interactive and \"%matplotlib inline\" for normal\n",
    "# %matplotlib  inline   \n",
    "\n",
    "plt.plot(xScale,test1,label='raw data');\n",
    "plt.plot(peaks,peakY,'.',label='detected spikes');\n",
    "plt.legend();\n",
    "\n"
   ]
  },
  {
   "cell_type": "code",
   "execution_count": 11,
   "metadata": {},
   "outputs": [],
   "source": [
    "response=[]\n",
    "SD = []\n",
    "examples=[]\n",
    "for file in files:\n",
    "    data=np.loadtxt(file);\n",
    "\n",
    "    spikes=np.zeros(data.shape[1])\n",
    "    for i in range(data.shape[1]):\n",
    "        peaks, props = signal.find_peaks(signal.medfilt(data[:,i],31),height=0)\n",
    "        spikes[i]=len(peaks)\n",
    "        if i == 3:\n",
    "            examples.append(signal.medfilt(data[:,i],31))\n",
    "    response.append(np.mean(spikes))\n",
    "    SD.append(np.std(spikes))\n",
    "\n",
    "    "
   ]
  },
  {
   "cell_type": "code",
   "execution_count": 12,
   "metadata": {},
   "outputs": [
    {
     "data": {
      "image/png": "[encoded data removed]",
      "text/plain": [
       "<Figure size 432x288 with 1 Axes>"
      ]
     },
     "metadata": {
      "needs_background": "light"
     },
     "output_type": "display_data"
    }
   ],
   "source": [
    "%matplotlib inline\n",
    "for i in range(len(examples)):\n",
    "    plt.plot(xScale+(i*4),examples[i],color='g')#1f77b4')"
   ]
  },
  {
   "cell_type": "code",
   "execution_count": 15,
   "metadata": {},
   "outputs": [
    {
     "data": {
      "image/png": "[encoded data removed]",
      "text/plain": [
       "<Figure size 432x288 with 1 Axes>"
      ]
     },
     "metadata": {
      "needs_background": "light"
     },
     "output_type": "display_data"
    }
   ],
   "source": [
    "plt.errorbar(concentration,response,yerr=SD,fmt='o');\n",
    "plt.xscale('log')\n",
    "plt.xlabel('Concentration (mM)')\n",
    "plt.ylabel('Response (spikes per s)');"
   ]
  },
  {
   "cell_type": "code",
   "execution_count": 45,
   "metadata": {
    "scrolled": false
   },
   "outputs": [
    {
     "name": "stdout",
     "output_type": "stream",
     "text": [
      "EC50 is 6.129154560741128 µM with Hill Coefficent of 1.285298620100804\n"
     ]
    },
    {
     "data": {
      "image/png": "[encoded data removed]",
      "text/plain": [
       "<Figure size 1080x720 with 2 Axes>"
      ]
     },
     "metadata": {
      "needs_background": "light"
     },
     "output_type": "display_data"
    }
   ],
   "source": [
    "fig, ax = plt.subplots(2,figsize=(15,10)) #specify the canvas on which the figure will be plotted\n",
    "\n",
    "\n",
    "ax[0].set_xscale(\"log\")\n",
    "ax[0].errorbar(concentration,response,yerr=SD,fmt='o')\n",
    "ax[0].set_xlabel(\"Concentration (M)\")\n",
    "ax[0].set_ylabel(\"Response (Spikes per s)\")\n",
    "\n",
    "\n",
    "hillConc =np.arange(0.0001,0.3,0.0001)\n",
    "\n",
    "ax[0].plot(hillConc, hillFunction(hillConc,params[0],params[1],params[2]));\n",
    "for i in range(len(examples)):\n",
    "    ax[1].plot(xScale+(i*4),examples[i],color='#1f77b4')\n",
    "ax[1].set_xlabel('Time (s)')\n",
    "ax[1].set_ylabel('Vm (mV)')\n",
    "print(\"EC50 is\",params[1]*1000,\"µM with Hill Coefficent of\",params[2])\n"
   ]
  },
  {
   "cell_type": "code",
   "execution_count": 8,
   "metadata": {},
   "outputs": [],
   "source": [
    "conc=np.arange(.0000001,0.003,0.0000001)"
   ]
  },
  {
   "cell_type": "code",
   "execution_count": 85,
   "metadata": {},
   "outputs": [
    {
     "name": "stdout",
     "output_type": "stream",
     "text": [
      "30\n"
     ]
    },
    {
     "data": {
      "image/png": "[encoded data removed]",
      "text/plain": [
       "<Figure size 576x576 with 1 Axes>"
      ]
     },
     "metadata": {
      "needs_background": "light"
     },
     "output_type": "display_data"
    }
   ],
   "source": [
    "noise = np.random.normal(0, 0.005, test.shape)\n",
    "testNoise = test+noise\n",
    "\n",
    "plt.figure()\n",
    "plt.plot(testNoise[:,0])\n",
    "\n",
    "filtered=signal.medfilt(testNoise[:,0],21)\n",
    "plt.plot(filtered)\n",
    "peaks, props = signal.find_peaks(test[:,0],height=0)\n",
    "\n",
    "print(len(peaks))"
   ]
  },
  {
   "cell_type": "code",
   "execution_count": 42,
   "metadata": {},
   "outputs": [],
   "source": [
    "files=sorted(glob.glob(\"*.txt\"))\n",
    "test=np.loadtxt(files[0])\n",
    "noise = np.random.normal(0, 0.005, test.shape)\n",
    "\n",
    "for file in files:\n",
    "    data=np.loadtxt(file)\n",
    "    data = data + noise\n",
    "    data*=1000\n",
    "    np.savetxt((file[0:-4]+\".csv\"),data)\n"
   ]
  },
  {
   "cell_type": "code",
   "execution_count": 91,
   "metadata": {},
   "outputs": [
    {
     "data": {
      "text/plain": [
       "'LigandA_0001.csv'"
      ]
     },
     "execution_count": 91,
     "metadata": {},
     "output_type": "execute_result"
    }
   ],
   "source": [
    "files[0][0:-4]+\".csv\"\n"
   ]
  },
  {
   "cell_type": "code",
   "execution_count": null,
   "metadata": {},
   "outputs": [],
   "source": []
  },
  {
   "cell_type": "code",
   "execution_count": 1,
   "metadata": {},
   "outputs": [],
   "source": [
    "#Load the necessary libraries \n",
    "\n",
    "import numpy as np\n",
    "# this imports all of numpy which you will now refer to as np\n",
    "from matplotlib import pyplot as plt \n",
    "# this imports the pyplot package from the matplotlib library which you will now refer to as plt\n",
    "\n",
    "import scipy.signal as signal\n",
    "# this imports the signal processing library from SciPy which we will call signal\n",
    "import scipy.optimize as fit\n",
    "# this imports the optimize library from SciPy which we will call fit\n",
    "\n",
    "import glob\n",
    "# this imports the glob library which is useful for searching directories to get a list of file types\n",
    "\n",
    "import warnings\n",
    "warnings.filterwarnings('ignore')\n",
    "\n",
    "## set some better defaults for display of graphs\n",
    "plt.rcParams.update({'font.size': 16})  # sets the font size of all plots to 14\n",
    "plt.rcParams['figure.figsize'] = [12, 8] # sets the plost size"
   ]
  }
 ],
 "metadata": {
  "kernelspec": {
   "display_name": "Python 3",
   "language": "python",
   "name": "python3"
  },
  "varInspector": {
   "cols": {
    "lenName": 16,
    "lenType": 16,
    "lenVar": 40
   },
   "kernels_config": {
    "python": {
     "delete_cmd_postfix": "",
     "delete_cmd_prefix": "del ",
     "library": "var_list.py",
     "varRefreshCmd": "print(var_dic_list())"
    },
    "r": {
     "delete_cmd_postfix": ") ",
     "delete_cmd_prefix": "rm(",
     "library": "var_list.r",
     "varRefreshCmd": "cat(var_dic_list()) "
    }
   },
   "types_to_exclude": [
    "module",
    "function",
    "builtin_function_or_method",
    "instance",
    "_Feature"
   ],
   "window_display": false
  }
 },
 "nbformat": 4,
 "nbformat_minor": 4
}
