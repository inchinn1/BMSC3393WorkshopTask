{
 "cells": [
  {
   "cell_type": "markdown",
   "metadata": {},
   "source": [
    "# The Task\n",
    "### Determine the EC50 and hill coefficient for an agonist (Ligand A) acting on a spiking cell\n",
    "\n",
    "<img src=\"Example.png\">\n",
    "\n",
    "### Important information\n",
    "- The agonist has been applied 5 times at each concentration and the data has been saved in .csv files, one for each concentration (csv = comma seperated values, typical text files for storing data, can be opened in excel)\n",
    "- The data was sampled at 50 kHz\n",
    "- The agonist was applied for 1 second in each trial\n",
    "- Quantify the average number of spikes at each conencentration\n",
    "- Then fit a Hill curve to this data\n"
   ]
  },
  {
   "cell_type": "code",
   "execution_count": null,
   "metadata": {
    "ExecuteTime": {
     "end_time": "2021-11-17T15:58:37.940379Z",
     "start_time": "2021-11-17T15:58:36.554812Z"
    }
   },
   "outputs": [],
   "source": [
    "#Load the necessary libraries \n",
    "import numpy as np\n",
    "import matplotlib.pyplot as plt\n",
    "import scipy.signal as signal\n",
    "import scipy.optimize as fit\n",
    "import glob    \n",
    "import warnings\n",
    "warnings.filterwarnings('ignore')\n",
    "\n",
    "plt.rcParams.update({'font.size': 14, 'figure.figsize': [10, 8]})\n",
    "# sets some default parameters for the size and font size of all plots"
   ]
  },
  {
   "cell_type": "markdown",
   "metadata": {},
   "source": [
    "### Get a list of the file names that we will process\n",
    "\n",
    "- use glob.glob( ) to create a **list** called \"files\" that contains the name of each file in the \"Data sets\" folder\n",
    "- print some text to inform us how many concentrations were tested\n",
    "- print the contents of the list to make sure it is ordered correctly\n",
    "- you learnt how to do this in PreWork3"
   ]
  },
  {
   "cell_type": "code",
   "execution_count": null,
   "metadata": {
    "ExecuteTime": {
     "end_time": "2021-11-17T15:58:43.180058Z",
     "start_time": "2021-11-17T15:58:43.170083Z"
    }
   },
   "outputs": [],
   "source": []
  },
  {
   "cell_type": "markdown",
   "metadata": {},
   "source": [
    "The file names in **\"files\"** are not in acscending order of concentration. We want them to be ordered in ascending concentration as this will make later analysis much easier. \n",
    "\n",
    "So we will modify the code so that the file names are **sorted**\n",
    "- copy and paste your code form above in the cell below\n",
    "- modify it so that glob.glob( ) is inside sorted( ), i.e. <code>files=sorted(glob.glob('____'))</code>\n"
   ]
  },
  {
   "cell_type": "code",
   "execution_count": null,
   "metadata": {
    "ExecuteTime": {
     "end_time": "2021-11-17T16:01:46.805662Z",
     "start_time": "2021-11-17T16:01:46.797383Z"
    },
    "scrolled": true
   },
   "outputs": [],
   "source": []
  },
  {
   "cell_type": "markdown",
   "metadata": {},
   "source": [
    "### You now have an ordered list of file names that we are going to process\n",
    "--------\n",
    "# Next load one of the files and inspect it\n",
    "\n",
    "- make data = **np.genfromtxt(___ , delimiter=',')** and load the **last** file in the list, i.e. the strongest concentration\n",
    "- do this by replacing the blank with files[ ] with the appropriate index\n",
    "- print the **shape** of the data, i.e. how many rows and columns\n",
    "- you learnt how to do this in PreWork1 & 2"
   ]
  },
  {
   "cell_type": "code",
   "execution_count": null,
   "metadata": {
    "ExecuteTime": {
     "end_time": "2021-11-17T16:01:50.185577Z",
     "start_time": "2021-11-17T16:01:48.678592Z"
    }
   },
   "outputs": [],
   "source": []
  },
  {
   "cell_type": "markdown",
   "metadata": {},
   "source": [
    "- now make an xScale array to plot the data with the correct x scaling, use np.arange()\n",
    "- recall that np.arange( ) wants startTime,endTime,interval\n",
    "- you need the sample rate for this which is in the important information above\n",
    "- you learnt how to do this in PreWork2"
   ]
  },
  {
   "cell_type": "code",
   "execution_count": null,
   "metadata": {
    "ExecuteTime": {
     "end_time": "2021-11-17T16:01:51.840483Z",
     "start_time": "2021-11-17T16:01:51.834789Z"
    }
   },
   "outputs": [],
   "source": []
  },
  {
   "cell_type": "markdown",
   "metadata": {},
   "source": [
    "- and plot the first column in a new figure and inspect it"
   ]
  },
  {
   "cell_type": "code",
   "execution_count": null,
   "metadata": {
    "ExecuteTime": {
     "end_time": "2021-11-17T16:01:54.444673Z",
     "start_time": "2021-11-17T16:01:54.191195Z"
    }
   },
   "outputs": [],
   "source": []
  },
  {
   "cell_type": "markdown",
   "metadata": {},
   "source": [
    "### Now we will detect how many spikes were in this trial. You can reuse the appropriate code from your pre-work book to do this..\n",
    "\n",
    "- you may want to refer to your completed PreWork2 notebook\n",
    "- remember that find_peaks has 2 outputs\n",
    "- print the number of spikes in this trial"
   ]
  },
  {
   "cell_type": "code",
   "execution_count": null,
   "metadata": {
    "ExecuteTime": {
     "end_time": "2021-11-17T16:10:11.156170Z",
     "start_time": "2021-11-17T16:10:11.130524Z"
    }
   },
   "outputs": [],
   "source": []
  },
  {
   "cell_type": "markdown",
   "metadata": {},
   "source": [
    "### Now loop through each trial doing the same thing\n",
    "- create a **for** loop with i in range(data.shape[1]) to get the number of columns, refer to PreWork1 if needed\n",
    "- paste you code from the above cell inside the for loop\n",
    "- make sure to change the column index to 'i' in data\n",
    "- make sure the print statement is also inside the loop"
   ]
  },
  {
   "cell_type": "code",
   "execution_count": null,
   "metadata": {
    "ExecuteTime": {
     "end_time": "2021-11-17T16:10:18.202254Z",
     "start_time": "2021-11-17T16:10:18.182182Z"
    }
   },
   "outputs": [],
   "source": []
  },
  {
   "cell_type": "markdown",
   "metadata": {},
   "source": [
    "### Instead of printing the values we want to put them in an array so it is easy to calculate the mean\n",
    "\n",
    "- so first create an array to hold these values, call it \"spikes\", you can use np.zeros( ) to generate an empty array, make it as long as there are columns using data.shape[1] inside the brackets\n",
    "- then run the loop again but instead of printing, put the number of spikes into the index of spikes, i.e. <code>spikes[i]=len(peaks)</code>\n",
    "\n",
    "- after the loop (i.e. not indented) print the mean number of spikes for this trial and the standard deviation. use <code>np.mean()</code> and <code>np.std()</code>"
   ]
  },
  {
   "cell_type": "code",
   "execution_count": null,
   "metadata": {
    "ExecuteTime": {
     "end_time": "2021-11-17T16:10:20.729442Z",
     "start_time": "2021-11-17T16:10:20.704469Z"
    }
   },
   "outputs": [],
   "source": []
  },
  {
   "cell_type": "markdown",
   "metadata": {},
   "source": [
    "### We are now ready to do this for all the files\n",
    "\n",
    "- first create 2 lists meanSpikes and SD, to store the mean and SD from each file respectively\n",
    "- then create a for loop to loop file in files:\n",
    "- inside this use np.genfromtxt to load each file, copy your code from above for this\n",
    "- then paste the code you developed in the above cell inside this loop\n",
    "- instead of print the mean and SD append them to their list, see PreWork1 for how to append to a list\n",
    "- take care with your indentation!\n"
   ]
  },
  {
   "cell_type": "code",
   "execution_count": null,
   "metadata": {
    "ExecuteTime": {
     "end_time": "2021-11-17T16:10:39.486939Z",
     "start_time": "2021-11-17T16:10:27.823312Z"
    }
   },
   "outputs": [],
   "source": []
  },
  {
   "cell_type": "markdown",
   "metadata": {},
   "source": [
    "#### Great! you have just looped through all the data, detected spikes and calculated the mean and SD for each trial!\n",
    "\n",
    "You just need to plot these, first you need an array corresponding to concentrations\n",
    "- the code below creates this for you"
   ]
  },
  {
   "cell_type": "code",
   "execution_count": null,
   "metadata": {
    "ExecuteTime": {
     "end_time": "2021-11-17T16:10:47.198371Z",
     "start_time": "2021-11-17T16:10:47.193151Z"
    }
   },
   "outputs": [],
   "source": [
    "concentration=np.array([0.0001,0.0003,0.001,0.003,0.01,0.03,0.1,0.3])"
   ]
  },
  {
   "cell_type": "markdown",
   "metadata": {},
   "source": [
    "- use the following to plot your results:\n",
    "\n",
    "<code>plt.errorbar(concentration,meanSpikes,yerr=SD,fmt='o');</code>\n",
    "\n",
    "see details here (https://matplotlib.org/api/_as_gen/matplotlib.pyplot.errorbar.html)\n",
    "- change x axis to log scale: <code>plt.xscale('log')</code>\n",
    "- label the x and y axes, see PreWork2"
   ]
  },
  {
   "cell_type": "code",
   "execution_count": null,
   "metadata": {
    "ExecuteTime": {
     "end_time": "2021-11-17T16:06:20.426105Z",
     "start_time": "2021-11-17T16:06:19.624701Z"
    }
   },
   "outputs": [],
   "source": []
  },
  {
   "cell_type": "markdown",
   "metadata": {},
   "source": [
    "## Now we will fit the the Hill equation to this data\n",
    "<img src=\"HillEquation.png\">\n",
    "\n",
    "### To fit an equation to data we first need to \"define\" the equation as a python function \n"
   ]
  },
  {
   "cell_type": "code",
   "execution_count": null,
   "metadata": {
    "ExecuteTime": {
     "end_time": "2021-11-17T16:06:25.310012Z",
     "start_time": "2021-11-17T16:06:25.305975Z"
    }
   },
   "outputs": [],
   "source": [
    "# remember a function receives inputs, in this case the parameters of the equation, i.e. EC50, n, etc\n",
    "# importantly the the first input needs to be the dependent variable, in this case the concentration\n",
    "\n",
    "def hillFunction(conc,Max,EC50,n):\n",
    "    return Max/(1+(EC50/conc)**n)\n"
   ]
  },
  {
   "cell_type": "markdown",
   "metadata": {},
   "source": [
    "### Now we want to fit this equation to our data to determine what the best value is for each of the parameters: EC50, n and max. We can use SciPy's optimize module which we have called \"fit\"\n",
    "- follow the instruction in the below cell\n",
    "- and then print the EC50 and the Hill coefficent\n",
    "- check PreWork4 for a similar example if you get stuck\n",
    "\n",
    "Details of the curvefit function can be found here: (https://docs.scipy.org/doc/scipy/reference/generated/scipy.optimize.curve_fit.html)"
   ]
  },
  {
   "cell_type": "code",
   "execution_count": null,
   "metadata": {
    "ExecuteTime": {
     "end_time": "2021-11-17T16:06:30.060363Z",
     "start_time": "2021-11-17T16:06:30.023529Z"
    },
    "tags": []
   },
   "outputs": [],
   "source": [
    "# use fit.curve_fit to obtain the best parameters, we input the function we want to fit and the x and y data\n",
    "# curve fit outputs 2 objects, the parameters which we want and the covariance which you can ignore.\n",
    "\n",
    "params, paramsCoV = fit.curve_fit(hillFunction,concentration,meanSpikes)\n",
    "\n",
    "# insert code to print the EC50 and hill coefficent \"n\"\n"
   ]
  },
  {
   "cell_type": "markdown",
   "metadata": {},
   "source": [
    "### Finally we will plot our results with the fit we have just obtained\n",
    "- first copy and paste the code for your previous plot of the mean and SD that you generated in a previous cell\n",
    "- now generate a new concentration array with many more points, this will make our fit display as a smooth curve, call it \"manyConcs\", you can use np.arange( ), the start and end should be the lowest and highest concentration respectively, use 0.00001 for the interval\n",
    "- then use plt.plot to add the curve to the graph.. for the y data you simply use the hill function with the appropriate index of \"params\". See PreWork4 for a similar example\n",
    "- to finish off also print what the EC50 and Hill coefficent are"
   ]
  },
  {
   "cell_type": "code",
   "execution_count": null,
   "metadata": {
    "ExecuteTime": {
     "end_time": "2021-11-17T16:07:18.142592Z",
     "start_time": "2021-11-17T16:07:17.599115Z"
    }
   },
   "outputs": [],
   "source": []
  },
  {
   "cell_type": "code",
   "execution_count": null,
   "metadata": {},
   "outputs": [],
   "source": []
  }
 ],
 "metadata": {
  "kernelspec": {
   "display_name": "Python 3 (ipykernel)",
   "language": "python",
   "name": "python3"
  },
  "language_info": {
   "codemirror_mode": {
    "name": "ipython",
    "version": 3
   },
   "file_extension": ".py",
   "mimetype": "text/x-python",
   "name": "python",
   "nbconvert_exporter": "python",
   "pygments_lexer": "ipython3",
   "version": "3.10.12"
  },
  "varInspector": {
   "cols": {
    "lenName": 16,
    "lenType": 16,
    "lenVar": 40
   },
   "kernels_config": {
    "python": {
     "delete_cmd_postfix": "",
     "delete_cmd_prefix": "del ",
     "library": "var_list.py",
     "varRefreshCmd": "print(var_dic_list())"
    },
    "r": {
     "delete_cmd_postfix": ") ",
     "delete_cmd_prefix": "rm(",
     "library": "var_list.r",
     "varRefreshCmd": "cat(var_dic_list()) "
    }
   },
   "types_to_exclude": [
    "module",
    "function",
    "builtin_function_or_method",
    "instance",
    "_Feature"
   ],
   "window_display": false
  }
 },
 "nbformat": 4,
 "nbformat_minor": 4
}
