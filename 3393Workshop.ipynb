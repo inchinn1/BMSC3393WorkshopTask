{
 "cells": [
  {
   "cell_type": "markdown",
   "metadata": {},
   "source": [
    "# The Task\n",
    "### Determine the EC50 and hill coefficient for a drug (Ligand A) acting on a spiking cell\n",
    "\n",
    "<img src=\"Example.png\">\n",
    "\n",
    "### Important information\n",
    "- The drug has been applied 5 times at each concentration and the data has been saved in .csv files, one for each concentration\n",
    "- The drug was applied for 1 second in each trial\n",
    "- The data was sampled at 50 kHz\n",
    "- Unexpected noise occurred during the recordings\n",
    "- We shall quantify the average number of spikes at each conencentration\n",
    "- Then fit a Hill curve to this data\n"
   ]
  },
  {
   "cell_type": "code",
   "execution_count": 1,
   "metadata": {},
   "outputs": [],
   "source": [
    "#Load the necessary libraries \n",
    "import numpy as np\n",
    "import matplotlib.pyplot as plt\n",
    "import scipy.signal as signal\n",
    "import scipy.optimize as fit\n",
    "import glob    \n",
    "\n",
    "import warnings\n",
    "warnings.filterwarnings('ignore')\n",
    "%matplotlib widget"
   ]
  },
  {
   "cell_type": "markdown",
   "metadata": {},
   "source": [
    "### Get a list of the file names that we will process\n",
    "\n",
    "- use glob.glob( ) to create a **list** called \"files\" that contains the name of each file in the \"data sets\" folder\n",
    "- print some text to inform us how many concentrations were tested\n",
    "- print the contents of the list to make sure it is ordered correctly"
   ]
  },
  {
   "cell_type": "code",
   "execution_count": null,
   "metadata": {
    "scrolled": false
   },
   "outputs": [],
   "source": []
  },
  {
   "cell_type": "markdown",
   "metadata": {},
   "source": [
    "The file names in **\"files\"** are not in acscending order of concentration. We want them to be ordered in ascending concentration as this will make later analysis much easier. \n",
    "\n",
    "So we will modify the code so that the file names are **sorted**"
   ]
  },
  {
   "cell_type": "code",
   "execution_count": null,
   "metadata": {
    "scrolled": true
   },
   "outputs": [],
   "source": []
  },
  {
   "cell_type": "markdown",
   "metadata": {},
   "source": [
    "### You now have an ordered list of file names that we are going to process\n",
    "--------\n",
    "# Next load one of the files and inspect it\n",
    "\n",
    "- use **np.loadtxt( )** and load the **last** file in the list, i.e. the strongest concentration\n",
    "- print the **shape** of the data, i.e. how many rows and columns"
   ]
  },
  {
   "cell_type": "code",
   "execution_count": null,
   "metadata": {},
   "outputs": [],
   "source": []
  },
  {
   "cell_type": "markdown",
   "metadata": {},
   "source": [
    "- now make an xScale array to plot the data with the correct x scaling, use np.arange()"
   ]
  },
  {
   "cell_type": "code",
   "execution_count": null,
   "metadata": {},
   "outputs": [],
   "source": []
  },
  {
   "cell_type": "markdown",
   "metadata": {},
   "source": [
    "- and plot the first column in a new figure and inspect it\n",
    "- zoom in on a single action potential using the zoom tool"
   ]
  },
  {
   "cell_type": "code",
   "execution_count": null,
   "metadata": {
    "scrolled": false
   },
   "outputs": [],
   "source": []
  },
  {
   "cell_type": "markdown",
   "metadata": {},
   "source": [
    "#### you should find that the spikes are pretty noisey... some of the noise fluctuates around 0 which may prevent find_peaks from working well\n",
    "we will fix this by filtering the data with a simple median filter (https://en.wikipedia.org/wiki/Median_filter)\n",
    "\n",
    "- add another line to the code above to plot a filtered version ontop of the last graph\n",
    "- Hint: scipy.signal has medfilt (https://docs.scipy.org/doc/scipy/reference/generated/scipy.signal.medfilt.html)\n",
    "- zoom in again on the filtered signal\n",
    "- change the window size (aka kernel) so that the spikes rise and fall without lots of noise\n",
    "---------------------"
   ]
  },
  {
   "cell_type": "markdown",
   "metadata": {},
   "source": [
    "Once you have determined an appropriate filter window your graph should look something like this:\n",
    "<img src=\"FilteredExample.png\">"
   ]
  },
  {
   "cell_type": "markdown",
   "metadata": {},
   "source": [
    "### Now we will detect how many spikes were in this trial. You can reuse the appropriate code from your pre-work book to do this.. use the filtered data to do this\n",
    "\n",
    "- print the number of spikes in this trial"
   ]
  },
  {
   "cell_type": "code",
   "execution_count": null,
   "metadata": {},
   "outputs": [],
   "source": []
  },
  {
   "cell_type": "markdown",
   "metadata": {},
   "source": [
    "- now loop through each trial doing the same thing"
   ]
  },
  {
   "cell_type": "code",
   "execution_count": null,
   "metadata": {},
   "outputs": [],
   "source": []
  },
  {
   "cell_type": "markdown",
   "metadata": {},
   "source": [
    "### Instead of printing the values we want to put them in an array so it is easy to calculate the mean\n",
    "\n",
    "- so first create an array to hold these values, call it \"spikes\", you can use np.zeros() to generate an empty array\n",
    "- then run the loop again but instead of printing, put the number of spikes into the index of spikes, i.e. spikes[index]\n",
    "\n",
    "- after the loop print the mean number of spikes for this trial and the standard deviation. use np.mean() and np.std()"
   ]
  },
  {
   "cell_type": "code",
   "execution_count": null,
   "metadata": {},
   "outputs": [],
   "source": []
  },
  {
   "cell_type": "markdown",
   "metadata": {},
   "source": [
    "### We are now ready to do this for all the files\n",
    "\n",
    "- first create 2 lists, one to store the mean from each file and one for the SD\n",
    "- then create a for loop to loop file in files:\n",
    "- inside this use np.loadtxt to load each file\n",
    "- then paste the code you developed in the above cell inside this loop\n",
    "- instead of print the mean and SD append them to their list\n",
    "- take care with your indentation!\n"
   ]
  },
  {
   "cell_type": "code",
   "execution_count": null,
   "metadata": {},
   "outputs": [],
   "source": []
  },
  {
   "cell_type": "markdown",
   "metadata": {},
   "source": [
    "#### Great! you have just looped through all the data,filtered it, detected spikes and calculated the mean and SD for each trial!\n",
    "\n",
    "You just need to plot these, first you need an array corresponding to concentrations\n",
    "- use np.asarray([ ]) to make one, call it \"concentration\""
   ]
  },
  {
   "cell_type": "code",
   "execution_count": null,
   "metadata": {},
   "outputs": [],
   "source": []
  },
  {
   "cell_type": "markdown",
   "metadata": {},
   "source": [
    "- make a new figure\n",
    "- use the following to plot your results:\n",
    "\n",
    "plt.errorbar(concentration,meanSpikes,yerr=SD,fmt='o');\n",
    "\n",
    "see details here (https://matplotlib.org/api/_as_gen/matplotlib.pyplot.errorbar.html)\n",
    "- change x axis to log scale: plt.xscale('log')\n",
    "- label the x and y axes"
   ]
  },
  {
   "cell_type": "code",
   "execution_count": null,
   "metadata": {},
   "outputs": [],
   "source": []
  },
  {
   "cell_type": "markdown",
   "metadata": {},
   "source": [
    "## Now we will fit the the Hill equation to this data\n",
    "<img src=\"HillEquation.png\">\n",
    "\n",
    "### To fit an equation to data we first need to \"define\" the equation as a python function \n"
   ]
  },
  {
   "cell_type": "code",
   "execution_count": 2,
   "metadata": {},
   "outputs": [],
   "source": [
    "# remember a function receives inputs, in this case the parameters of the equation, i.e. EC50, n, etc\n",
    "# importantly the the first input needs to be the dependent variable, in this case the concentration\n",
    "\n"
   ]
  },
  {
   "cell_type": "markdown",
   "metadata": {},
   "source": [
    "### Now we want to fit this equation to our data, we can use SciPy's optiize module which we have called \"fit\"\n",
    "- follow the instruction in the below cell\n",
    "- and then print the EC50 and the Hill coefficent"
   ]
  },
  {
   "cell_type": "code",
   "execution_count": 3,
   "metadata": {
    "scrolled": true
   },
   "outputs": [],
   "source": [
    "## we want to discover what values of these parameter give the best fit of our data\n",
    "# we can use fit.curve_fit to obtain this, we input the function we want to fit and the x and y data\n",
    "# curve fit outputs 2 objects, the parameters which we want and the covariance which you can ignore\n",
    "\n"
   ]
  },
  {
   "cell_type": "markdown",
   "metadata": {},
   "source": [
    "### Finally we will plot our results with the fit we have just obtained\n",
    "- first plot the results identical to what you did above in a previous cell\n",
    "- now generate a new concentration array with many more points, this will make our fit display as a smooth curve, call it \"manyConcs\"\n",
    "- then use plt.plot to add the curve to the graph.. for the y data you simply use the fill function with the appropriate index of \"params\"."
   ]
  },
  {
   "cell_type": "code",
   "execution_count": null,
   "metadata": {},
   "outputs": [],
   "source": []
  }
 ],
 "metadata": {
  "kernelspec": {
   "display_name": "Python 3",
   "language": "python",
   "name": "python3"
  },
  "language_info": {
   "codemirror_mode": {
    "name": "ipython",
    "version": 3
   },
   "file_extension": ".py",
   "mimetype": "text/x-python",
   "name": "python",
   "nbconvert_exporter": "python",
   "pygments_lexer": "ipython3",
   "version": "3.7.6"
  },
  "varInspector": {
   "cols": {
    "lenName": 16,
    "lenType": 16,
    "lenVar": 40
   },
   "kernels_config": {
    "python": {
     "delete_cmd_postfix": "",
     "delete_cmd_prefix": "del ",
     "library": "var_list.py",
     "varRefreshCmd": "print(var_dic_list())"
    },
    "r": {
     "delete_cmd_postfix": ") ",
     "delete_cmd_prefix": "rm(",
     "library": "var_list.r",
     "varRefreshCmd": "cat(var_dic_list()) "
    }
   },
   "types_to_exclude": [
    "module",
    "function",
    "builtin_function_or_method",
    "instance",
    "_Feature"
   ],
   "window_display": false
  }
 },
 "nbformat": 4,
 "nbformat_minor": 4
}
